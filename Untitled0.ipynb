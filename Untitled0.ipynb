{
  "nbformat": 4,
  "nbformat_minor": 0,
  "metadata": {
    "colab": {
      "name": "Untitled0.ipynb",
      "provenance": [],
      "toc_visible": true
    },
    "kernelspec": {
      "name": "python3",
      "display_name": "Python 3"
    },
    "language_info": {
      "name": "python"
    }
  },
  "cells": [
    {
      "cell_type": "code",
      "metadata": {
        "colab": {
          "base_uri": "https://localhost:8080/"
        },
        "id": "Nrf4Yqf3J9YF",
        "outputId": "96989aa9-5b81-4cbc-d3f5-b2cf61bc3ed7"
      },
      "source": [
        "n = int(input(\"Enter the number of rows\"))  \n",
        "for i in range(0, n):\n",
        "  for j in range(0, i + 1):\n",
        "    print(\"* \", end=\"\")\n",
        "  print()"
      ],
      "execution_count": 1,
      "outputs": [
        {
          "output_type": "stream",
          "name": "stdout",
          "text": [
            "Enter the number of rows3\n",
            "* \n",
            "* * \n",
            "* * * \n"
          ]
        }
      ]
    },
    {
      "cell_type": "code",
      "metadata": {
        "colab": {
          "base_uri": "https://localhost:8080/"
        },
        "id": "vPKnEntOK9Xq",
        "outputId": "c44283cb-a60f-4062-f5a2-23de346b36bd"
      },
      "source": [
        "start_val = 1\n",
        "n = int(input(\"Enter the n number:\"))\n",
        "for num in range(start_val, n+1):\n",
        "    if(num>1):\n",
        "        for i in range(2,num):\n",
        "            if(num%i)==0:\n",
        "                break\n",
        "        else:\n",
        "            print(num)"
      ],
      "execution_count": 3,
      "outputs": [
        {
          "output_type": "stream",
          "name": "stdout",
          "text": [
            "Enter the n number:9\n",
            "2\n",
            "3\n",
            "5\n",
            "7\n"
          ]
        }
      ]
    },
    {
      "cell_type": "code",
      "metadata": {
        "id": "YtRtbHddN6sa"
      },
      "source": [
        "from google.colab import drive\n",
        "drive.mount('/content/drive')"
      ],
      "execution_count": null,
      "outputs": []
    },
    {
      "cell_type": "code",
      "metadata": {
        "colab": {
          "base_uri": "https://localhost:8080/"
        },
        "id": "XEjgQ_xILQ3h",
        "outputId": "84040101-fd47-48fd-c756-65565ec1a4e4"
      },
      "source": [
        "sum=0\n",
        "n = int(input(\"Enter n\"))\n",
        "for i in range(1,n+1):\n",
        "  sum=sum+i\n",
        "print(\"The sum is:\",sum)"
      ],
      "execution_count": 4,
      "outputs": [
        {
          "output_type": "stream",
          "name": "stdout",
          "text": [
            "Enter n40\n",
            "The sum is: 820\n"
          ]
        }
      ]
    },
    {
      "cell_type": "code",
      "metadata": {
        "colab": {
          "base_uri": "https://localhost:8080/"
        },
        "id": "9qVVKrKrLWP6",
        "outputId": "79b6b4c3-efb5-476a-96cb-2c75d67b0180"
      },
      "source": [
        "num1 = float(input(\"Enter number 1: \")) \n",
        "num2 = float(input(\"Enter number 2: \")) \n",
        "num3 = float(input(\"Enter number 3: \"))\n",
        "big=num1\n",
        "if (big<num2): big=num2\n",
        "if (big<num3): big=num3\n",
        "\n",
        "print(\"The largest among the three is : \",big)"
      ],
      "execution_count": 5,
      "outputs": [
        {
          "output_type": "stream",
          "name": "stdout",
          "text": [
            "Enter number 1: 3\n",
            "Enter number 2: 6\n",
            "Enter number 3: 7\n",
            "The largest among the three is :  7.0\n"
          ]
        }
      ]
    },
    {
      "cell_type": "code",
      "metadata": {
        "colab": {
          "base_uri": "https://localhost:8080/"
        },
        "id": "u_GSeVI3LgJi",
        "outputId": "e49fca82-ae16-4c64-9b6f-41f6b17b9757"
      },
      "source": [
        "import numpy as np\n",
        "A = np.array([[1, 1, 1], [1, 1, 1],[1,1,1]])\n",
        "B = np.array([[1, 1, 1], [1, 1, 1],[1,1,1]])\n",
        "add=A+B\n",
        "print(\"Addition is\",add)\n",
        "mul = A.dot(B)\n",
        "print(\"Multiplication is\",mul)"
      ],
      "execution_count": 6,
      "outputs": [
        {
          "output_type": "stream",
          "name": "stdout",
          "text": [
            "Addition is [[2 2 2]\n",
            " [2 2 2]\n",
            " [2 2 2]]\n",
            "Multiplication is [[3 3 3]\n",
            " [3 3 3]\n",
            " [3 3 3]]\n"
          ]
        }
      ]
    },
    {
      "cell_type": "code",
      "metadata": {
        "colab": {
          "base_uri": "https://localhost:8080/"
        },
        "id": "NW76GQ6ILwFx",
        "outputId": "14ce8b7c-f3d2-47d2-893b-fbf0a7aa14a8"
      },
      "source": [
        "import numpy as np  \n",
        "a = np.array([[1,2,30],[10,15,4]])  \n",
        "print(\"The array:\",a)  \n",
        "print(\"The maximum elements of each column:\",a.max(axis = 0))   \n",
        "print(\"The minimum element of each row\",a.min(axis = 1))  \n",
        "print(\"The sum of elements of each row\",a.sum(axis = 1))"
      ],
      "execution_count": 7,
      "outputs": [
        {
          "output_type": "stream",
          "name": "stdout",
          "text": [
            "The array: [[ 1  2 30]\n",
            " [10 15  4]]\n",
            "The maximum elements of each column: [10 15 30]\n",
            "The minimum element of each row [1 4]\n",
            "The sum of elements of each row [33 29]\n"
          ]
        }
      ]
    },
    {
      "cell_type": "code",
      "metadata": {
        "colab": {
          "base_uri": "https://localhost:8080/"
        },
        "id": "DCo2pBVKL2HB",
        "outputId": "39ba0bf5-8b88-4bfa-84ed-9a7d045d8e8e"
      },
      "source": [
        "def factorial(x):\n",
        "     if x == 1:\n",
        "        return 1\n",
        "     else:\n",
        "        return (x * factorial(x-1))\n",
        "num = 3\n",
        "print(\"The factorial of\", num, \"is\", factorial(num))"
      ],
      "execution_count": 8,
      "outputs": [
        {
          "output_type": "stream",
          "name": "stdout",
          "text": [
            "The factorial of 3 is 6\n"
          ]
        }
      ]
    },
    {
      "cell_type": "code",
      "metadata": {
        "colab": {
          "base_uri": "https://localhost:8080/"
        },
        "id": "NLCVMhIcL7_J",
        "outputId": "ba6e659c-32ba-4241-c9dd-240dd1027070"
      },
      "source": [
        "list1 = [1, 2, 3, 4]\n",
        "list2 = [5, 6, 7, 8]\n",
        "print(\"Repetition:\",list1*2)\n",
        "print(\"Concatenation:\",list1+list2)\n",
        "print(\"membership:\",2 in list1)\n",
        "print(\"Iteration:\")\n",
        "for i in list1:\n",
        "  print(i)\n",
        "print(\"length:\",len(list1))"
      ],
      "execution_count": 9,
      "outputs": [
        {
          "output_type": "stream",
          "name": "stdout",
          "text": [
            "Repetition: [1, 2, 3, 4, 1, 2, 3, 4]\n",
            "Concatenation: [1, 2, 3, 4, 5, 6, 7, 8]\n",
            "membership: True\n",
            "Iteration:\n",
            "1\n",
            "2\n",
            "3\n",
            "4\n",
            "length: 4\n"
          ]
        }
      ]
    },
    {
      "cell_type": "code",
      "metadata": {
        "colab": {
          "base_uri": "https://localhost:8080/"
        },
        "id": "-mVCC5n0MC0J",
        "outputId": "d77e5bf9-da07-4587-8b7b-7c7e211d3b31"
      },
      "source": [
        "# Python program for simple calculator\n",
        "  \n",
        "# Function to add two numbers \n",
        "def add(num1, num2):\n",
        "    return num1 + num2\n",
        "  \n",
        "# Function to subtract two numbers \n",
        "def subtract(num1, num2):\n",
        "    return num1 - num2\n",
        "  \n",
        "# Function to multiply two numbers\n",
        "def multiply(num1, num2):\n",
        "    return num1 * num2\n",
        "  \n",
        "# Function to divide two numbers\n",
        "def divide(num1, num2):\n",
        "    return num1 / num2\n",
        "  \n",
        "print(\"Please select operation -\\n\" \\\n",
        "        \"1. Add\\n\" \\\n",
        "        \"2. Subtract\\n\" \\\n",
        "        \"3. Multiply\\n\" \\\n",
        "        \"4. Divide\\n\")\n",
        "   \n",
        "# Take input from the user \n",
        "select = int(input(\"Select operations form 1, 2, 3, 4 :\"))\n",
        "  \n",
        "number_1 = int(input(\"Enter first number: \"))\n",
        "number_2 = int(input(\"Enter second number: \"))\n",
        "  \n",
        "if select == 1:\n",
        "    print(number_1, \"+\", number_2, \"=\",\n",
        "                    add(number_1, number_2))\n",
        "  \n",
        "elif select == 2:\n",
        "    print(number_1, \"-\", number_2, \"=\",\n",
        "                    subtract(number_1, number_2))\n",
        "  \n",
        "elif select == 3:\n",
        "    print(number_1, \"*\", number_2, \"=\",\n",
        "                    multiply(number_1, number_2))\n",
        "  \n",
        "elif select == 4:\n",
        "    print(number_1, \"/\", number_2, \"=\",\n",
        "                    divide(number_1, number_2))\n",
        "else:\n",
        "    print(\"Invalid input\")"
      ],
      "execution_count": 11,
      "outputs": [
        {
          "output_type": "stream",
          "name": "stdout",
          "text": [
            "Please select operation -\n",
            "1. Add\n",
            "2. Subtract\n",
            "3. Multiply\n",
            "4. Divide\n",
            "\n",
            "Select operations form 1, 2, 3, 4 :1\n",
            "Enter first number: 4\n",
            "Enter second number: 7\n",
            "4 + 7 = 11\n"
          ]
        }
      ]
    },
    {
      "cell_type": "code",
      "metadata": {
        "colab": {
          "base_uri": "https://localhost:8080/"
        },
        "id": "Mx5Z9vtPNCM6",
        "outputId": "6bb7783c-5ea3-44d7-8326-734ee4553010"
      },
      "source": [
        "# list of numbers\n",
        "list1 = [10, 21, 4, 45, 66, 93]\n",
        " \n",
        "# iterating each number in list\n",
        "for num in list1:\n",
        " \n",
        "    # checking condition\n",
        "    if num % 2 == 0:\n",
        "        print(num, end=\" \")"
      ],
      "execution_count": 12,
      "outputs": [
        {
          "output_type": "stream",
          "name": "stdout",
          "text": [
            "10 4 66 "
          ]
        }
      ]
    },
    {
      "cell_type": "code",
      "metadata": {
        "id": "BMXZ3AkkMYva"
      },
      "source": [
        ""
      ],
      "execution_count": null,
      "outputs": []
    }
  ]
}