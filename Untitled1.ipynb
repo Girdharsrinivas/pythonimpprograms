{
  "nbformat": 4,
  "nbformat_minor": 0,
  "metadata": {
    "colab": {
      "name": "Untitled1.ipynb",
      "provenance": [],
      "collapsed_sections": []
    },
    "kernelspec": {
      "name": "python3",
      "display_name": "Python 3"
    },
    "language_info": {
      "name": "python"
    }
  },
  "cells": [
    {
      "cell_type": "code",
      "metadata": {
        "colab": {
          "base_uri": "https://localhost:8080/"
        },
        "id": "6NyzllZSTj-L",
        "outputId": "9946c05c-a793-4ea5-932f-7363f00f702b"
      },
      "source": [
        "a = 100 \n",
        "b= 10.23 \n",
        "c= 100+3j\n",
        "print (\"The type of variable having value\", a, \" is \", type(a)) \n",
        "print (\"The type of variable having value\", b, \" is \", type(b)) \n",
        "print (\"The type of variable having value\", c, \" is \", type(c)) \n",
        "print (\"The type of variable having value '\", a + b, \"' is \", type (a + b))\n",
        "print (\"The type of variable having value\", b + c, \" is \", type (b + c))\n",
        "d = int (15) \n",
        "print(d)\n",
        "print (\"The type of variable having value\", d, \" is \", type(d))\n",
        "e = float (10.1)\n",
        "print ( e)\n",
        "print (\"The type of variable having value\", e, \" is \", type(e))\n",
        "f = c + 3\n",
        "print(\"f=\",f)\n",
        "print (\"The type of variable f is\", type(f))\n",
        "g = complex (3)\n",
        "print (\"g=\", g)"
      ],
      "execution_count": 1,
      "outputs": [
        {
          "output_type": "stream",
          "name": "stdout",
          "text": [
            "The type of variable having value 100  is  <class 'int'>\n",
            "The type of variable having value 10.23  is  <class 'float'>\n",
            "The type of variable having value (100+3j)  is  <class 'complex'>\n",
            "The type of variable having value ' 110.23 ' is  <class 'float'>\n",
            "The type of variable having value (110.23+3j)  is  <class 'complex'>\n",
            "15\n",
            "The type of variable having value 15  is  <class 'int'>\n",
            "10.1\n",
            "The type of variable having value 10.1  is  <class 'float'>\n",
            "f= (103+3j)\n",
            "The type of variable f is <class 'complex'>\n",
            "g= (3+0j)\n"
          ]
        }
      ]
    },
    {
      "cell_type": "code",
      "metadata": {
        "colab": {
          "base_uri": "https://localhost:8080/"
        },
        "id": "bmq3-ksKTpnu",
        "outputId": "63d6667f-e680-4b20-8cc3-9bfadc528889"
      },
      "source": [
        "# Store input numbers:  \n",
        "num1 = input('Enter first number: ')  \n",
        "num2 = input('Enter second number: ')  \n",
        "# Add two numbers  \n",
        "sum = float(num1) + float(num2)  \n",
        "# Subtract two numbers  \n",
        "min = float(num1) - float(num2)  \n",
        "# Multiply two numbers  \n",
        "mul = float(num1) * float(num2)  \n",
        "#Divide two numbers  \n",
        "div = float(num1) / float(num2)  \n",
        "# Display the sum  \n",
        "print('The sum of {0} and {1} is {2}'.format(num1, num2, sum))  \n",
        "# Display the subtraction  \n",
        "print('The subtraction of {0} and {1} is {2}'.format(num1, num2, min))  \n",
        "# Display the multiplication  \n",
        "print('The multiplication of {0} and {1} is {2}'.format(num1, num2, mul))  \n",
        "# Display the division  \n",
        "print('The division of {0} and {1} is {2}'.format(num1, num2, div))"
      ],
      "execution_count": 2,
      "outputs": [
        {
          "output_type": "stream",
          "name": "stdout",
          "text": [
            "Enter first number: 1\n",
            "Enter second number: 2\n",
            "The sum of 1 and 2 is 3.0\n",
            "The subtraction of 1 and 2 is -1.0\n",
            "The multiplication of 1 and 2 is 2.0\n",
            "The division of 1 and 2 is 0.5\n"
          ]
        }
      ]
    },
    {
      "cell_type": "code",
      "metadata": {
        "colab": {
          "base_uri": "https://localhost:8080/"
        },
        "id": "Xd-yY6UcT8dW",
        "outputId": "8a211594-d6f8-40f2-afae-a1d25bed6147"
      },
      "source": [
        "s1='string in single quote'\n",
        "s2=\"string in double quote\"\n",
        "s3=\"\"\"string in triple quote\"\"\"\n",
        "s4='.'\n",
        "s5='Newsletter'\n",
        "\n",
        "# Printing string print(s1)\n",
        "print(s1)\n",
        "print(s2)\n",
        "print(s3)\n",
        "print(s4)\n",
        "print(s5)\n",
        "\n",
        "#string concatenation\n",
        "s6=s1+s2+s3\n",
        "print(\"Concatenated string = \",s6)\n",
        "print(\"Fruits are Apple,Orange,Grape,etc\",s4*3)\n",
        "#substring or slicing\n",
        "print(\"Substring of \",s5,\" = \",s5[4:7])\n",
        "print(\"Substring of \",s5,\" = \",s5[:4])\n",
        "print(\"Substring of \",s5,\" = \",s5[4:])\n",
        "print(\"Substring of \",s5,\" = \",s5[::2])\n",
        "print(\"Substring of \",s5,\" = \",s5[-6:-1])\n",
        "print(\"Substring of \",s5,\" = \",s5[-6:])\n",
        "print(\"Substring of \",s5,\" = \",s5[-10:-6])\n",
        "print(\"Reverse of \",s5,\" = \",s5[::-1])"
      ],
      "execution_count": 3,
      "outputs": [
        {
          "output_type": "stream",
          "name": "stdout",
          "text": [
            "string in single quote\n",
            "string in double quote\n",
            "string in triple quote\n",
            ".\n",
            "Newsletter\n",
            "Concatenated string =  string in single quotestring in double quotestring in triple quote\n",
            "Fruits are Apple,Orange,Grape,etc ...\n",
            "Substring of  Newsletter  =  let\n",
            "Substring of  Newsletter  =  News\n",
            "Substring of  Newsletter  =  letter\n",
            "Substring of  Newsletter  =  Nwlte\n",
            "Substring of  Newsletter  =  lette\n",
            "Substring of  Newsletter  =  letter\n",
            "Substring of  Newsletter  =  News\n",
            "Reverse of  Newsletter  =  rettelsweN\n"
          ]
        }
      ]
    },
    {
      "cell_type": "code",
      "metadata": {
        "colab": {
          "base_uri": "https://localhost:8080/"
        },
        "id": "iApbEdEFUEae",
        "outputId": "7e1d2fc9-91f5-407b-c4e1-50342fc2fcc4"
      },
      "source": [
        "import datetime\n",
        "from datetime import datetime \n",
        "now = datetime.now()\n",
        "current_time = now.strftime(\"%H:%M:%S\")\n",
        "current_year = now.strftime(\"%Y\")\n",
        "current_month=now.strftime(\"%B\")\n",
        "current_day = now.strftime(\"%a\")\n",
        "current_date = now.strftime(\"%d\")\n",
        "print(\"Todays date is:\")\n",
        "print(\"{} {} {} {} IST {}\".format(current_day,current_month,current_date,current_time,current_year))"
      ],
      "execution_count": 4,
      "outputs": [
        {
          "output_type": "stream",
          "name": "stdout",
          "text": [
            "Todays date is:\n",
            "Wed November 10 10:07:15 IST 2021\n"
          ]
        }
      ]
    },
    {
      "cell_type": "code",
      "metadata": {
        "colab": {
          "base_uri": "https://localhost:8080/"
        },
        "id": "AzQxRWubUQ3u",
        "outputId": "e3c3d45b-83d7-4f78-df46-299299653903"
      },
      "source": [
        "lst = []\n",
        "choice=1\n",
        "while choice!=0:\n",
        "    print(\"0. Exit\")\n",
        "    print(\"1. Add\")\n",
        "    print(\"2. Delete\")\n",
        "    print(\"3. Display\")\n",
        "    choice=int(input(\"Enter choice: \"))\n",
        "    if choice==1:\n",
        "        n=int(input(\"Enter number to append: \"))\n",
        "        lst.append(n)\n",
        "        print(\"List: \",lst)\n",
        "    elif choice==2:\n",
        "        if len(lst)==0:\n",
        "           print(\"List is empty, no item to remove:\")\n",
        "           print()\n",
        "           continue\n",
        "        n=int(input(\"Enter number to remove: \"))\n",
        "        if n not in lst:\n",
        "            print(\"The item to be removed not in list:\")\n",
        "            print()\n",
        "            continue\n",
        "        lst.remove(n)\n",
        "        print(\"List: \",lst)\n",
        "    elif choice==3:\n",
        "        print(\"List: \",lst)\n",
        "    elif choice==0: \n",
        "        print(\"Exiting!\")\n",
        "    else:\n",
        "        print(\"Invalid choice!!\") \n",
        "        print()"
      ],
      "execution_count": 7,
      "outputs": [
        {
          "output_type": "stream",
          "name": "stdout",
          "text": [
            "0. Exit\n",
            "1. Add\n",
            "2. Delete\n",
            "3. Display\n",
            "Enter choice: 2\n",
            "List is empty, no item to remove:\n",
            "\n",
            "0. Exit\n",
            "1. Add\n",
            "2. Delete\n",
            "3. Display\n",
            "Enter choice: 3\n",
            "List:  []\n",
            "0. Exit\n",
            "1. Add\n",
            "2. Delete\n",
            "3. Display\n",
            "Enter choice: 3\n",
            "List:  []\n",
            "0. Exit\n",
            "1. Add\n",
            "2. Delete\n",
            "3. Display\n",
            "Enter choice: 0\n",
            "Exiting!\n"
          ]
        }
      ]
    },
    {
      "cell_type": "code",
      "metadata": {
        "colab": {
          "base_uri": "https://localhost:8080/"
        },
        "id": "6Br9LUtJYc5L",
        "outputId": "4f1e46d6-f7a3-4e47-833f-0a7fe552f18f"
      },
      "source": [
        "tup1 = ('jan','feb','mar','apr','may','june','july','august','september','october','november','december')\n",
        "tup2 = (1, 2, 3, 4, 5)\n",
        "tup3=(1, \"Hello\", (11, 22, 33))\n",
        "tup4=('India',[10,20,30],'USA')\n",
        "#print the tuple\n",
        "print(tup1)\n",
        "\n",
        "#iterating in tuple \n",
        "for mon in tup1:\n",
        "    print(mon)\n",
        "\n",
        "#accessing the tuple element\n",
        "print(\"The element in the 5th position : \",tup1[5])\n",
        "print(tup1[-6])\n",
        "print(\"Tuple before addition\")\n",
        "print(tup2)\n",
        "tup2 = tup2 + (7,) \n",
        "print(\"Tuple after addition\")\n",
        "print(tup2)\n",
        "tup2=tup2+('apple','orange','banana')\n",
        "print(tup2)\n",
        "\n",
        "#accessing nested tuple element \n",
        "print(tup3[2][1])\n",
        "\n",
        "#tuple element is mutable, element change is possible \n",
        "print(\"Tuple before change\")\n",
        "print(tup4)\n",
        "tup4[1][2]=40\n",
        "print(\"Tuple after change\")\n",
        "print(tup4)\n",
        "\n",
        "#Slicing operation in tuples\n",
        "print(tup1[2:5])\n",
        "print(tup1[4:])\n",
        "print(tup1[:4])\n",
        "\n",
        "#finding position of the element\n",
        "print(\"The position of 'october' in the tuple: \",tup1.index('october'))"
      ],
      "execution_count": 8,
      "outputs": [
        {
          "output_type": "stream",
          "name": "stdout",
          "text": [
            "('jan', 'feb', 'mar', 'apr', 'may', 'june', 'july', 'august', 'september', 'october', 'november', 'december')\n",
            "jan\n",
            "feb\n",
            "mar\n",
            "apr\n",
            "may\n",
            "june\n",
            "july\n",
            "august\n",
            "september\n",
            "october\n",
            "november\n",
            "december\n",
            "The element in the 5th position :  june\n",
            "july\n",
            "Tuple before addition\n",
            "(1, 2, 3, 4, 5)\n",
            "Tuple after addition\n",
            "(1, 2, 3, 4, 5, 7)\n",
            "(1, 2, 3, 4, 5, 7, 'apple', 'orange', 'banana')\n",
            "22\n",
            "Tuple before change\n",
            "('India', [10, 20, 30], 'USA')\n",
            "Tuple after change\n",
            "('India', [10, 20, 40], 'USA')\n",
            "('mar', 'apr', 'may')\n",
            "('may', 'june', 'july', 'august', 'september', 'october', 'november', 'december')\n",
            "('jan', 'feb', 'mar', 'apr')\n",
            "The position of 'october' in the tuple:  9\n"
          ]
        }
      ]
    },
    {
      "cell_type": "code",
      "metadata": {
        "colab": {
          "base_uri": "https://localhost:8080/"
        },
        "id": "yBhm7HL5Ygnq",
        "outputId": "c8c50b0e-d3b7-4e99-d95b-e76cfd34d48e"
      },
      "source": [
        "mon={1:'jan',2:'feb',3:'mar',4:'apr',5:'may',6:'june'}\n",
        "stud={'kiran':23,'kumar':20,'dinesh':19,'rakesh':21}\n",
        "\n",
        "print(\"mon Dictionary is \",mon)\n",
        "print(\"The element in the key position 3 is :\",mon[3])\n",
        "print(\"The mon dictionary values are: \",mon.values())\n",
        "print(\"The mon dictionary keys are: \",mon.keys())\n",
        "\n",
        "#adding an item in the dictionary \n",
        "print(\"Before addition\")\n",
        "for item in mon.values():\n",
        "    print(item,end=' ')\n",
        "\n",
        "mon[7]='july' \n",
        "print()\n",
        "print(\"After addition\")\n",
        "for item in mon.values():\n",
        "    print(item,end=' ')\n",
        "    print()\n",
        "print(\"Before deletion\")\n",
        "for item in stud.values():\n",
        "    print(item,end=' ')\n",
        "    print()\n",
        "    \n",
        "del stud['kumar']\n",
        "\n",
        "print(\"After deletion\")\n",
        "for item in stud.values():\n",
        "    print(item,end=' ')\n",
        "    print()\n",
        "\n",
        "print(\"Before change\")\n",
        "print(\"stud Dictionary is \",stud)\n",
        "stud['dinesh']=55\n",
        "print(\"After change\")\n",
        "print(\"stud Dictionary is \",stud)\n",
        "\n",
        "print(\"Key value pair of dictionary\")\n",
        "print(stud.items())"
      ],
      "execution_count": 9,
      "outputs": [
        {
          "output_type": "stream",
          "name": "stdout",
          "text": [
            "mon Dictionary is  {1: 'jan', 2: 'feb', 3: 'mar', 4: 'apr', 5: 'may', 6: 'june'}\n",
            "The element in the key position 3 is : mar\n",
            "The mon dictionary values are:  dict_values(['jan', 'feb', 'mar', 'apr', 'may', 'june'])\n",
            "The mon dictionary keys are:  dict_keys([1, 2, 3, 4, 5, 6])\n",
            "Before addition\n",
            "jan feb mar apr may june \n",
            "After addition\n",
            "jan \n",
            "feb \n",
            "mar \n",
            "apr \n",
            "may \n",
            "june \n",
            "july \n",
            "Before deletion\n",
            "23 \n",
            "20 \n",
            "19 \n",
            "21 \n",
            "After deletion\n",
            "23 \n",
            "19 \n",
            "21 \n",
            "Before change\n",
            "stud Dictionary is  {'kiran': 23, 'dinesh': 19, 'rakesh': 21}\n",
            "After change\n",
            "stud Dictionary is  {'kiran': 23, 'dinesh': 55, 'rakesh': 21}\n",
            "Key value pair of dictionary\n",
            "dict_items([('kiran', 23), ('dinesh', 55), ('rakesh', 21)])\n"
          ]
        }
      ]
    },
    {
      "cell_type": "code",
      "metadata": {
        "id": "_bHEpw_hYqyQ"
      },
      "source": [
        ""
      ],
      "execution_count": null,
      "outputs": []
    }
  ]
}